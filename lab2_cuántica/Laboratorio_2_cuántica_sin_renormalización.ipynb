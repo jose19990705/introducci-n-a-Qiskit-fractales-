{
  "nbformat": 4,
  "nbformat_minor": 0,
  "metadata": {
    "colab": {
      "provenance": []
    },
    "kernelspec": {
      "name": "python3",
      "display_name": "Python 3"
    },
    "language_info": {
      "name": "python"
    }
  },
  "cells": [
    {
      "cell_type": "code",
      "source": [
        "!pip install qiskit\n",
        "!pip install qiskit-ibm-runtime\n",
        "!pip install qiskit[visualization]\n",
        "!pip install qiskit-aer"
      ],
      "metadata": {
        "colab": {
          "base_uri": "https://localhost:8080/"
        },
        "id": "85E8X0v1xDuI",
        "outputId": "733ed28a-d3e5-4576-ef8a-1360b24f5e78"
      },
      "execution_count": 1,
      "outputs": [
        {
          "output_type": "stream",
          "name": "stdout",
          "text": [
            "Collecting qiskit\n",
            "  Downloading qiskit-2.0.0-cp39-abi3-manylinux_2_17_x86_64.manylinux2014_x86_64.whl.metadata (12 kB)\n",
            "Collecting rustworkx>=0.15.0 (from qiskit)\n",
            "  Downloading rustworkx-0.16.0-cp39-abi3-manylinux_2_17_x86_64.manylinux2014_x86_64.whl.metadata (10 kB)\n",
            "Requirement already satisfied: numpy<3,>=1.17 in /usr/local/lib/python3.11/dist-packages (from qiskit) (2.0.2)\n",
            "Requirement already satisfied: scipy>=1.5 in /usr/local/lib/python3.11/dist-packages (from qiskit) (1.15.2)\n",
            "Requirement already satisfied: sympy>=1.3 in /usr/local/lib/python3.11/dist-packages (from qiskit) (1.13.1)\n",
            "Requirement already satisfied: dill>=0.3 in /usr/local/lib/python3.11/dist-packages (from qiskit) (0.3.7)\n",
            "Requirement already satisfied: python-dateutil>=2.8.0 in /usr/local/lib/python3.11/dist-packages (from qiskit) (2.9.0.post0)\n",
            "Collecting stevedore>=3.0.0 (from qiskit)\n",
            "  Downloading stevedore-5.4.1-py3-none-any.whl.metadata (2.3 kB)\n",
            "Requirement already satisfied: typing-extensions in /usr/local/lib/python3.11/dist-packages (from qiskit) (4.13.2)\n",
            "Collecting symengine<0.14,>=0.11 (from qiskit)\n",
            "  Downloading symengine-0.13.0-cp311-cp311-manylinux_2_17_x86_64.manylinux2014_x86_64.whl.metadata (1.2 kB)\n",
            "Requirement already satisfied: six>=1.5 in /usr/local/lib/python3.11/dist-packages (from python-dateutil>=2.8.0->qiskit) (1.17.0)\n",
            "Collecting pbr>=2.0.0 (from stevedore>=3.0.0->qiskit)\n",
            "  Downloading pbr-6.1.1-py2.py3-none-any.whl.metadata (3.4 kB)\n",
            "Requirement already satisfied: mpmath<1.4,>=1.1.0 in /usr/local/lib/python3.11/dist-packages (from sympy>=1.3->qiskit) (1.3.0)\n",
            "Requirement already satisfied: setuptools in /usr/local/lib/python3.11/dist-packages (from pbr>=2.0.0->stevedore>=3.0.0->qiskit) (75.2.0)\n",
            "Downloading qiskit-2.0.0-cp39-abi3-manylinux_2_17_x86_64.manylinux2014_x86_64.whl (6.5 MB)\n",
            "\u001b[2K   \u001b[90m━━━━━━━━━━━━━━━━━━━━━━━━━━━━━━━━━━━━━━━━\u001b[0m \u001b[32m6.5/6.5 MB\u001b[0m \u001b[31m25.2 MB/s\u001b[0m eta \u001b[36m0:00:00\u001b[0m\n",
            "\u001b[?25hDownloading rustworkx-0.16.0-cp39-abi3-manylinux_2_17_x86_64.manylinux2014_x86_64.whl (2.1 MB)\n",
            "\u001b[2K   \u001b[90m━━━━━━━━━━━━━━━━━━━━━━━━━━━━━━━━━━━━━━━━\u001b[0m \u001b[32m2.1/2.1 MB\u001b[0m \u001b[31m33.6 MB/s\u001b[0m eta \u001b[36m0:00:00\u001b[0m\n",
            "\u001b[?25hDownloading stevedore-5.4.1-py3-none-any.whl (49 kB)\n",
            "\u001b[2K   \u001b[90m━━━━━━━━━━━━━━━━━━━━━━━━━━━━━━━━━━━━━━━━\u001b[0m \u001b[32m49.5/49.5 kB\u001b[0m \u001b[31m2.6 MB/s\u001b[0m eta \u001b[36m0:00:00\u001b[0m\n",
            "\u001b[?25hDownloading symengine-0.13.0-cp311-cp311-manylinux_2_17_x86_64.manylinux2014_x86_64.whl (49.7 MB)\n",
            "\u001b[2K   \u001b[90m━━━━━━━━━━━━━━━━━━━━━━━━━━━━━━━━━━━━━━━━\u001b[0m \u001b[32m49.7/49.7 MB\u001b[0m \u001b[31m11.0 MB/s\u001b[0m eta \u001b[36m0:00:00\u001b[0m\n",
            "\u001b[?25hDownloading pbr-6.1.1-py2.py3-none-any.whl (108 kB)\n",
            "\u001b[2K   \u001b[90m━━━━━━━━━━━━━━━━━━━━━━━━━━━━━━━━━━━━━━━━\u001b[0m \u001b[32m109.0/109.0 kB\u001b[0m \u001b[31m5.3 MB/s\u001b[0m eta \u001b[36m0:00:00\u001b[0m\n",
            "\u001b[?25hInstalling collected packages: symengine, rustworkx, pbr, stevedore, qiskit\n",
            "Successfully installed pbr-6.1.1 qiskit-2.0.0 rustworkx-0.16.0 stevedore-5.4.1 symengine-0.13.0\n",
            "Collecting qiskit-ibm-runtime\n",
            "  Downloading qiskit_ibm_runtime-0.38.0-py3-none-any.whl.metadata (21 kB)\n",
            "Requirement already satisfied: requests>=2.19 in /usr/local/lib/python3.11/dist-packages (from qiskit-ibm-runtime) (2.32.3)\n",
            "Collecting requests-ntlm>=1.1.0 (from qiskit-ibm-runtime)\n",
            "  Downloading requests_ntlm-1.3.0-py3-none-any.whl.metadata (2.4 kB)\n",
            "Requirement already satisfied: numpy>=1.13 in /usr/local/lib/python3.11/dist-packages (from qiskit-ibm-runtime) (2.0.2)\n",
            "Requirement already satisfied: urllib3>=1.21.1 in /usr/local/lib/python3.11/dist-packages (from qiskit-ibm-runtime) (2.4.0)\n",
            "Requirement already satisfied: python-dateutil>=2.8.0 in /usr/local/lib/python3.11/dist-packages (from qiskit-ibm-runtime) (2.9.0.post0)\n",
            "Collecting ibm-platform-services>=0.22.6 (from qiskit-ibm-runtime)\n",
            "  Downloading ibm_platform_services-0.65.0-py3-none-any.whl.metadata (9.0 kB)\n",
            "Collecting pydantic<2.10,>=2.5.0 (from qiskit-ibm-runtime)\n",
            "  Downloading pydantic-2.9.2-py3-none-any.whl.metadata (149 kB)\n",
            "\u001b[2K     \u001b[90m━━━━━━━━━━━━━━━━━━━━━━━━━━━━━━━━━━━━━━━\u001b[0m \u001b[32m149.4/149.4 kB\u001b[0m \u001b[31m1.6 MB/s\u001b[0m eta \u001b[36m0:00:00\u001b[0m\n",
            "\u001b[?25hRequirement already satisfied: qiskit>=1.4.1 in /usr/local/lib/python3.11/dist-packages (from qiskit-ibm-runtime) (2.0.0)\n",
            "Requirement already satisfied: packaging in /usr/local/lib/python3.11/dist-packages (from qiskit-ibm-runtime) (24.2)\n",
            "Collecting ibm_cloud_sdk_core<4.0.0,>=3.22.1 (from ibm-platform-services>=0.22.6->qiskit-ibm-runtime)\n",
            "  Downloading ibm_cloud_sdk_core-3.23.0-py3-none-any.whl.metadata (8.7 kB)\n",
            "Requirement already satisfied: annotated-types>=0.6.0 in /usr/local/lib/python3.11/dist-packages (from pydantic<2.10,>=2.5.0->qiskit-ibm-runtime) (0.7.0)\n",
            "Collecting pydantic-core==2.23.4 (from pydantic<2.10,>=2.5.0->qiskit-ibm-runtime)\n",
            "  Downloading pydantic_core-2.23.4-cp311-cp311-manylinux_2_17_x86_64.manylinux2014_x86_64.whl.metadata (6.6 kB)\n",
            "Requirement already satisfied: typing-extensions>=4.6.1 in /usr/local/lib/python3.11/dist-packages (from pydantic<2.10,>=2.5.0->qiskit-ibm-runtime) (4.13.2)\n",
            "Requirement already satisfied: six>=1.5 in /usr/local/lib/python3.11/dist-packages (from python-dateutil>=2.8.0->qiskit-ibm-runtime) (1.17.0)\n",
            "Requirement already satisfied: rustworkx>=0.15.0 in /usr/local/lib/python3.11/dist-packages (from qiskit>=1.4.1->qiskit-ibm-runtime) (0.16.0)\n",
            "Requirement already satisfied: scipy>=1.5 in /usr/local/lib/python3.11/dist-packages (from qiskit>=1.4.1->qiskit-ibm-runtime) (1.15.2)\n",
            "Requirement already satisfied: sympy>=1.3 in /usr/local/lib/python3.11/dist-packages (from qiskit>=1.4.1->qiskit-ibm-runtime) (1.13.1)\n",
            "Requirement already satisfied: dill>=0.3 in /usr/local/lib/python3.11/dist-packages (from qiskit>=1.4.1->qiskit-ibm-runtime) (0.3.7)\n",
            "Requirement already satisfied: stevedore>=3.0.0 in /usr/local/lib/python3.11/dist-packages (from qiskit>=1.4.1->qiskit-ibm-runtime) (5.4.1)\n",
            "Requirement already satisfied: symengine<0.14,>=0.11 in /usr/local/lib/python3.11/dist-packages (from qiskit>=1.4.1->qiskit-ibm-runtime) (0.13.0)\n",
            "Requirement already satisfied: charset-normalizer<4,>=2 in /usr/local/lib/python3.11/dist-packages (from requests>=2.19->qiskit-ibm-runtime) (3.4.2)\n",
            "Requirement already satisfied: idna<4,>=2.5 in /usr/local/lib/python3.11/dist-packages (from requests>=2.19->qiskit-ibm-runtime) (3.10)\n",
            "Requirement already satisfied: certifi>=2017.4.17 in /usr/local/lib/python3.11/dist-packages (from requests>=2.19->qiskit-ibm-runtime) (2025.4.26)\n",
            "Requirement already satisfied: cryptography>=1.3 in /usr/local/lib/python3.11/dist-packages (from requests-ntlm>=1.1.0->qiskit-ibm-runtime) (43.0.3)\n",
            "Collecting pyspnego>=0.4.0 (from requests-ntlm>=1.1.0->qiskit-ibm-runtime)\n",
            "  Downloading pyspnego-0.11.2-py3-none-any.whl.metadata (5.4 kB)\n",
            "Requirement already satisfied: cffi>=1.12 in /usr/local/lib/python3.11/dist-packages (from cryptography>=1.3->requests-ntlm>=1.1.0->qiskit-ibm-runtime) (1.17.1)\n",
            "Requirement already satisfied: PyJWT<3.0.0,>=2.8.0 in /usr/local/lib/python3.11/dist-packages (from ibm_cloud_sdk_core<4.0.0,>=3.22.1->ibm-platform-services>=0.22.6->qiskit-ibm-runtime) (2.10.1)\n",
            "Requirement already satisfied: pbr>=2.0.0 in /usr/local/lib/python3.11/dist-packages (from stevedore>=3.0.0->qiskit>=1.4.1->qiskit-ibm-runtime) (6.1.1)\n",
            "Requirement already satisfied: mpmath<1.4,>=1.1.0 in /usr/local/lib/python3.11/dist-packages (from sympy>=1.3->qiskit>=1.4.1->qiskit-ibm-runtime) (1.3.0)\n",
            "Requirement already satisfied: pycparser in /usr/local/lib/python3.11/dist-packages (from cffi>=1.12->cryptography>=1.3->requests-ntlm>=1.1.0->qiskit-ibm-runtime) (2.22)\n",
            "Requirement already satisfied: setuptools in /usr/local/lib/python3.11/dist-packages (from pbr>=2.0.0->stevedore>=3.0.0->qiskit>=1.4.1->qiskit-ibm-runtime) (75.2.0)\n",
            "Downloading qiskit_ibm_runtime-0.38.0-py3-none-any.whl (3.2 MB)\n",
            "\u001b[2K   \u001b[90m━━━━━━━━━━━━━━━━━━━━━━━━━━━━━━━━━━━━━━━━\u001b[0m \u001b[32m3.2/3.2 MB\u001b[0m \u001b[31m43.9 MB/s\u001b[0m eta \u001b[36m0:00:00\u001b[0m\n",
            "\u001b[?25hDownloading ibm_platform_services-0.65.0-py3-none-any.whl (359 kB)\n",
            "\u001b[2K   \u001b[90m━━━━━━━━━━━━━━━━━━━━━━━━━━━━━━━━━━━━━━━━\u001b[0m \u001b[32m359.9/359.9 kB\u001b[0m \u001b[31m19.7 MB/s\u001b[0m eta \u001b[36m0:00:00\u001b[0m\n",
            "\u001b[?25hDownloading pydantic-2.9.2-py3-none-any.whl (434 kB)\n",
            "\u001b[2K   \u001b[90m━━━━━━━━━━━━━━━━━━━━━━━━━━━━━━━━━━━━━━━━\u001b[0m \u001b[32m434.9/434.9 kB\u001b[0m \u001b[31m21.6 MB/s\u001b[0m eta \u001b[36m0:00:00\u001b[0m\n",
            "\u001b[?25hDownloading pydantic_core-2.23.4-cp311-cp311-manylinux_2_17_x86_64.manylinux2014_x86_64.whl (2.1 MB)\n",
            "\u001b[2K   \u001b[90m━━━━━━━━━━━━━━━━━━━━━━━━━━━━━━━━━━━━━━━━\u001b[0m \u001b[32m2.1/2.1 MB\u001b[0m \u001b[31m39.4 MB/s\u001b[0m eta \u001b[36m0:00:00\u001b[0m\n",
            "\u001b[?25hDownloading requests_ntlm-1.3.0-py3-none-any.whl (6.6 kB)\n",
            "Downloading ibm_cloud_sdk_core-3.23.0-py3-none-any.whl (69 kB)\n",
            "\u001b[2K   \u001b[90m━━━━━━━━━━━━━━━━━━━━━━━━━━━━━━━━━━━━━━━━\u001b[0m \u001b[32m69.5/69.5 kB\u001b[0m \u001b[31m3.6 MB/s\u001b[0m eta \u001b[36m0:00:00\u001b[0m\n",
            "\u001b[?25hDownloading pyspnego-0.11.2-py3-none-any.whl (130 kB)\n",
            "\u001b[2K   \u001b[90m━━━━━━━━━━━━━━━━━━━━━━━━━━━━━━━━━━━━━━━━\u001b[0m \u001b[32m130.5/130.5 kB\u001b[0m \u001b[31m7.7 MB/s\u001b[0m eta \u001b[36m0:00:00\u001b[0m\n",
            "\u001b[?25hInstalling collected packages: pydantic-core, pydantic, ibm_cloud_sdk_core, pyspnego, ibm-platform-services, requests-ntlm, qiskit-ibm-runtime\n",
            "  Attempting uninstall: pydantic-core\n",
            "    Found existing installation: pydantic_core 2.33.2\n",
            "    Uninstalling pydantic_core-2.33.2:\n",
            "      Successfully uninstalled pydantic_core-2.33.2\n",
            "  Attempting uninstall: pydantic\n",
            "    Found existing installation: pydantic 2.11.4\n",
            "    Uninstalling pydantic-2.11.4:\n",
            "      Successfully uninstalled pydantic-2.11.4\n",
            "Successfully installed ibm-platform-services-0.65.0 ibm_cloud_sdk_core-3.23.0 pydantic-2.9.2 pydantic-core-2.23.4 pyspnego-0.11.2 qiskit-ibm-runtime-0.38.0 requests-ntlm-1.3.0\n",
            "Requirement already satisfied: qiskit[visualization] in /usr/local/lib/python3.11/dist-packages (2.0.0)\n",
            "Requirement already satisfied: rustworkx>=0.15.0 in /usr/local/lib/python3.11/dist-packages (from qiskit[visualization]) (0.16.0)\n",
            "Requirement already satisfied: numpy<3,>=1.17 in /usr/local/lib/python3.11/dist-packages (from qiskit[visualization]) (2.0.2)\n",
            "Requirement already satisfied: scipy>=1.5 in /usr/local/lib/python3.11/dist-packages (from qiskit[visualization]) (1.15.2)\n",
            "Requirement already satisfied: sympy>=1.3 in /usr/local/lib/python3.11/dist-packages (from qiskit[visualization]) (1.13.1)\n",
            "Requirement already satisfied: dill>=0.3 in /usr/local/lib/python3.11/dist-packages (from qiskit[visualization]) (0.3.7)\n",
            "Requirement already satisfied: python-dateutil>=2.8.0 in /usr/local/lib/python3.11/dist-packages (from qiskit[visualization]) (2.9.0.post0)\n",
            "Requirement already satisfied: stevedore>=3.0.0 in /usr/local/lib/python3.11/dist-packages (from qiskit[visualization]) (5.4.1)\n",
            "Requirement already satisfied: typing-extensions in /usr/local/lib/python3.11/dist-packages (from qiskit[visualization]) (4.13.2)\n",
            "Requirement already satisfied: symengine<0.14,>=0.11 in /usr/local/lib/python3.11/dist-packages (from qiskit[visualization]) (0.13.0)\n",
            "Requirement already satisfied: matplotlib>=3.3 in /usr/local/lib/python3.11/dist-packages (from qiskit[visualization]) (3.10.0)\n",
            "Requirement already satisfied: pydot in /usr/local/lib/python3.11/dist-packages (from qiskit[visualization]) (3.0.4)\n",
            "Requirement already satisfied: Pillow>=4.2.1 in /usr/local/lib/python3.11/dist-packages (from qiskit[visualization]) (11.2.1)\n",
            "Collecting pylatexenc>=1.4 (from qiskit[visualization])\n",
            "  Downloading pylatexenc-2.10.tar.gz (162 kB)\n",
            "\u001b[2K     \u001b[90m━━━━━━━━━━━━━━━━━━━━━━━━━━━━━━━━━━━━━━━\u001b[0m \u001b[32m162.6/162.6 kB\u001b[0m \u001b[31m4.9 MB/s\u001b[0m eta \u001b[36m0:00:00\u001b[0m\n",
            "\u001b[?25h  Preparing metadata (setup.py) ... \u001b[?25l\u001b[?25hdone\n",
            "Requirement already satisfied: seaborn>=0.9.0 in /usr/local/lib/python3.11/dist-packages (from qiskit[visualization]) (0.13.2)\n",
            "Requirement already satisfied: contourpy>=1.0.1 in /usr/local/lib/python3.11/dist-packages (from matplotlib>=3.3->qiskit[visualization]) (1.3.2)\n",
            "Requirement already satisfied: cycler>=0.10 in /usr/local/lib/python3.11/dist-packages (from matplotlib>=3.3->qiskit[visualization]) (0.12.1)\n",
            "Requirement already satisfied: fonttools>=4.22.0 in /usr/local/lib/python3.11/dist-packages (from matplotlib>=3.3->qiskit[visualization]) (4.57.0)\n",
            "Requirement already satisfied: kiwisolver>=1.3.1 in /usr/local/lib/python3.11/dist-packages (from matplotlib>=3.3->qiskit[visualization]) (1.4.8)\n",
            "Requirement already satisfied: packaging>=20.0 in /usr/local/lib/python3.11/dist-packages (from matplotlib>=3.3->qiskit[visualization]) (24.2)\n",
            "Requirement already satisfied: pyparsing>=2.3.1 in /usr/local/lib/python3.11/dist-packages (from matplotlib>=3.3->qiskit[visualization]) (3.2.3)\n",
            "Requirement already satisfied: six>=1.5 in /usr/local/lib/python3.11/dist-packages (from python-dateutil>=2.8.0->qiskit[visualization]) (1.17.0)\n",
            "Requirement already satisfied: pandas>=1.2 in /usr/local/lib/python3.11/dist-packages (from seaborn>=0.9.0->qiskit[visualization]) (2.2.2)\n",
            "Requirement already satisfied: pbr>=2.0.0 in /usr/local/lib/python3.11/dist-packages (from stevedore>=3.0.0->qiskit[visualization]) (6.1.1)\n",
            "Requirement already satisfied: mpmath<1.4,>=1.1.0 in /usr/local/lib/python3.11/dist-packages (from sympy>=1.3->qiskit[visualization]) (1.3.0)\n",
            "Requirement already satisfied: pytz>=2020.1 in /usr/local/lib/python3.11/dist-packages (from pandas>=1.2->seaborn>=0.9.0->qiskit[visualization]) (2025.2)\n",
            "Requirement already satisfied: tzdata>=2022.7 in /usr/local/lib/python3.11/dist-packages (from pandas>=1.2->seaborn>=0.9.0->qiskit[visualization]) (2025.2)\n",
            "Requirement already satisfied: setuptools in /usr/local/lib/python3.11/dist-packages (from pbr>=2.0.0->stevedore>=3.0.0->qiskit[visualization]) (75.2.0)\n",
            "Building wheels for collected packages: pylatexenc\n",
            "  Building wheel for pylatexenc (setup.py) ... \u001b[?25l\u001b[?25hdone\n",
            "  Created wheel for pylatexenc: filename=pylatexenc-2.10-py3-none-any.whl size=136817 sha256=56748a569cdd5fd12b46452f3f70048963c0ecd283266e3f844c497b7ebc1cd5\n",
            "  Stored in directory: /root/.cache/pip/wheels/b1/7a/33/9fdd892f784ed4afda62b685ae3703adf4c91aa0f524c28f03\n",
            "Successfully built pylatexenc\n",
            "Installing collected packages: pylatexenc\n",
            "Successfully installed pylatexenc-2.10\n",
            "Collecting qiskit-aer\n",
            "  Downloading qiskit_aer-0.17.0-cp311-cp311-manylinux_2_17_x86_64.manylinux2014_x86_64.whl.metadata (8.2 kB)\n",
            "Requirement already satisfied: qiskit>=1.1.0 in /usr/local/lib/python3.11/dist-packages (from qiskit-aer) (2.0.0)\n",
            "Requirement already satisfied: numpy>=1.16.3 in /usr/local/lib/python3.11/dist-packages (from qiskit-aer) (2.0.2)\n",
            "Requirement already satisfied: scipy>=1.0 in /usr/local/lib/python3.11/dist-packages (from qiskit-aer) (1.15.2)\n",
            "Requirement already satisfied: psutil>=5 in /usr/local/lib/python3.11/dist-packages (from qiskit-aer) (5.9.5)\n",
            "Requirement already satisfied: rustworkx>=0.15.0 in /usr/local/lib/python3.11/dist-packages (from qiskit>=1.1.0->qiskit-aer) (0.16.0)\n",
            "Requirement already satisfied: sympy>=1.3 in /usr/local/lib/python3.11/dist-packages (from qiskit>=1.1.0->qiskit-aer) (1.13.1)\n",
            "Requirement already satisfied: dill>=0.3 in /usr/local/lib/python3.11/dist-packages (from qiskit>=1.1.0->qiskit-aer) (0.3.7)\n",
            "Requirement already satisfied: python-dateutil>=2.8.0 in /usr/local/lib/python3.11/dist-packages (from qiskit>=1.1.0->qiskit-aer) (2.9.0.post0)\n",
            "Requirement already satisfied: stevedore>=3.0.0 in /usr/local/lib/python3.11/dist-packages (from qiskit>=1.1.0->qiskit-aer) (5.4.1)\n",
            "Requirement already satisfied: typing-extensions in /usr/local/lib/python3.11/dist-packages (from qiskit>=1.1.0->qiskit-aer) (4.13.2)\n",
            "Requirement already satisfied: symengine<0.14,>=0.11 in /usr/local/lib/python3.11/dist-packages (from qiskit>=1.1.0->qiskit-aer) (0.13.0)\n",
            "Requirement already satisfied: six>=1.5 in /usr/local/lib/python3.11/dist-packages (from python-dateutil>=2.8.0->qiskit>=1.1.0->qiskit-aer) (1.17.0)\n",
            "Requirement already satisfied: pbr>=2.0.0 in /usr/local/lib/python3.11/dist-packages (from stevedore>=3.0.0->qiskit>=1.1.0->qiskit-aer) (6.1.1)\n",
            "Requirement already satisfied: mpmath<1.4,>=1.1.0 in /usr/local/lib/python3.11/dist-packages (from sympy>=1.3->qiskit>=1.1.0->qiskit-aer) (1.3.0)\n",
            "Requirement already satisfied: setuptools in /usr/local/lib/python3.11/dist-packages (from pbr>=2.0.0->stevedore>=3.0.0->qiskit>=1.1.0->qiskit-aer) (75.2.0)\n",
            "Downloading qiskit_aer-0.17.0-cp311-cp311-manylinux_2_17_x86_64.manylinux2014_x86_64.whl (12.4 MB)\n",
            "\u001b[2K   \u001b[90m━━━━━━━━━━━━━━━━━━━━━━━━━━━━━━━━━━━━━━━━\u001b[0m \u001b[32m12.4/12.4 MB\u001b[0m \u001b[31m54.1 MB/s\u001b[0m eta \u001b[36m0:00:00\u001b[0m\n",
            "\u001b[?25hInstalling collected packages: qiskit-aer\n",
            "Successfully installed qiskit-aer-0.17.0\n"
          ]
        }
      ]
    },
    {
      "cell_type": "code",
      "source": [
        "\n",
        "!pip install qiskit-ibm-provider"
      ],
      "metadata": {
        "colab": {
          "base_uri": "https://localhost:8080/"
        },
        "id": "2vgqcfLWNzUW",
        "outputId": "41241567-246d-46fe-d5e6-e78bfce79f82"
      },
      "execution_count": 2,
      "outputs": [
        {
          "output_type": "stream",
          "name": "stdout",
          "text": [
            "Collecting qiskit-ibm-provider\n",
            "  Downloading qiskit_ibm_provider-0.11.0-py3-none-any.whl.metadata (7.6 kB)\n",
            "Requirement already satisfied: qiskit>=0.45.0 in /usr/local/lib/python3.11/dist-packages (from qiskit-ibm-provider) (2.0.0)\n",
            "Requirement already satisfied: requests>=2.19 in /usr/local/lib/python3.11/dist-packages (from qiskit-ibm-provider) (2.32.3)\n",
            "Requirement already satisfied: requests-ntlm>=1.1.0 in /usr/local/lib/python3.11/dist-packages (from qiskit-ibm-provider) (1.3.0)\n",
            "Requirement already satisfied: numpy>=1.13 in /usr/local/lib/python3.11/dist-packages (from qiskit-ibm-provider) (2.0.2)\n",
            "Requirement already satisfied: urllib3>=1.21.1 in /usr/local/lib/python3.11/dist-packages (from qiskit-ibm-provider) (2.4.0)\n",
            "Requirement already satisfied: python-dateutil>=2.8.0 in /usr/local/lib/python3.11/dist-packages (from qiskit-ibm-provider) (2.9.0.post0)\n",
            "Requirement already satisfied: websocket-client>=1.5.1 in /usr/local/lib/python3.11/dist-packages (from qiskit-ibm-provider) (1.8.0)\n",
            "Requirement already satisfied: websockets>=10.0 in /usr/local/lib/python3.11/dist-packages (from qiskit-ibm-provider) (15.0.1)\n",
            "Requirement already satisfied: typing-extensions>=4.3 in /usr/local/lib/python3.11/dist-packages (from qiskit-ibm-provider) (4.13.2)\n",
            "Requirement already satisfied: six>=1.5 in /usr/local/lib/python3.11/dist-packages (from python-dateutil>=2.8.0->qiskit-ibm-provider) (1.17.0)\n",
            "Requirement already satisfied: rustworkx>=0.15.0 in /usr/local/lib/python3.11/dist-packages (from qiskit>=0.45.0->qiskit-ibm-provider) (0.16.0)\n",
            "Requirement already satisfied: scipy>=1.5 in /usr/local/lib/python3.11/dist-packages (from qiskit>=0.45.0->qiskit-ibm-provider) (1.15.2)\n",
            "Requirement already satisfied: sympy>=1.3 in /usr/local/lib/python3.11/dist-packages (from qiskit>=0.45.0->qiskit-ibm-provider) (1.13.1)\n",
            "Requirement already satisfied: dill>=0.3 in /usr/local/lib/python3.11/dist-packages (from qiskit>=0.45.0->qiskit-ibm-provider) (0.3.7)\n",
            "Requirement already satisfied: stevedore>=3.0.0 in /usr/local/lib/python3.11/dist-packages (from qiskit>=0.45.0->qiskit-ibm-provider) (5.4.1)\n",
            "Requirement already satisfied: symengine<0.14,>=0.11 in /usr/local/lib/python3.11/dist-packages (from qiskit>=0.45.0->qiskit-ibm-provider) (0.13.0)\n",
            "Requirement already satisfied: charset-normalizer<4,>=2 in /usr/local/lib/python3.11/dist-packages (from requests>=2.19->qiskit-ibm-provider) (3.4.2)\n",
            "Requirement already satisfied: idna<4,>=2.5 in /usr/local/lib/python3.11/dist-packages (from requests>=2.19->qiskit-ibm-provider) (3.10)\n",
            "Requirement already satisfied: certifi>=2017.4.17 in /usr/local/lib/python3.11/dist-packages (from requests>=2.19->qiskit-ibm-provider) (2025.4.26)\n",
            "Requirement already satisfied: cryptography>=1.3 in /usr/local/lib/python3.11/dist-packages (from requests-ntlm>=1.1.0->qiskit-ibm-provider) (43.0.3)\n",
            "Requirement already satisfied: pyspnego>=0.4.0 in /usr/local/lib/python3.11/dist-packages (from requests-ntlm>=1.1.0->qiskit-ibm-provider) (0.11.2)\n",
            "Requirement already satisfied: cffi>=1.12 in /usr/local/lib/python3.11/dist-packages (from cryptography>=1.3->requests-ntlm>=1.1.0->qiskit-ibm-provider) (1.17.1)\n",
            "Requirement already satisfied: pbr>=2.0.0 in /usr/local/lib/python3.11/dist-packages (from stevedore>=3.0.0->qiskit>=0.45.0->qiskit-ibm-provider) (6.1.1)\n",
            "Requirement already satisfied: mpmath<1.4,>=1.1.0 in /usr/local/lib/python3.11/dist-packages (from sympy>=1.3->qiskit>=0.45.0->qiskit-ibm-provider) (1.3.0)\n",
            "Requirement already satisfied: pycparser in /usr/local/lib/python3.11/dist-packages (from cffi>=1.12->cryptography>=1.3->requests-ntlm>=1.1.0->qiskit-ibm-provider) (2.22)\n",
            "Requirement already satisfied: setuptools in /usr/local/lib/python3.11/dist-packages (from pbr>=2.0.0->stevedore>=3.0.0->qiskit>=0.45.0->qiskit-ibm-provider) (75.2.0)\n",
            "Downloading qiskit_ibm_provider-0.11.0-py3-none-any.whl (249 kB)\n",
            "\u001b[2K   \u001b[90m━━━━━━━━━━━━━━━━━━━━━━━━━━━━━━━━━━━━━━━━\u001b[0m \u001b[32m249.9/249.9 kB\u001b[0m \u001b[31m5.1 MB/s\u001b[0m eta \u001b[36m0:00:00\u001b[0m\n",
            "\u001b[?25hInstalling collected packages: qiskit-ibm-provider\n",
            "Successfully installed qiskit-ibm-provider-0.11.0\n"
          ]
        }
      ]
    },
    {
      "cell_type": "code",
      "source": [
        "import numpy as np\n",
        "import math\n",
        "from qiskit import QuantumCircuit, QuantumRegister, ClassicalRegister, transpile\n",
        "from qiskit.circuit.library import Initialize\n",
        "from qiskit.visualization import array_to_latex\n",
        "from qiskit.quantum_info import Statevector\n",
        "from qiskit_aer import AerSimulator\n",
        "from IPython.display import display, Math\n",
        "from qiskit.quantum_info import SparsePauliOp, Statevector\n",
        "from qiskit.primitives import StatevectorEstimator\n",
        "from qiskit.transpiler import generate_preset_pass_manager\n",
        "from qiskit.quantum_info import SparsePauliOp, Statevector\n",
        "from qiskit.primitives import StatevectorEstimator\n",
        "\n"
      ],
      "metadata": {
        "id": "8_mRLdPXxLvl"
      },
      "execution_count": 3,
      "outputs": []
    },
    {
      "cell_type": "markdown",
      "source": [
        "Se escogen las siguientes cadenas:\n",
        "\n"
      ],
      "metadata": {
        "id": "B8dwZo7brhlg"
      }
    },
    {
      "cell_type": "markdown",
      "source": [
        "Humano, Chimpance, perro y oveja"
      ],
      "metadata": {
        "id": "4Cq_UkIcrn9R"
      }
    },
    {
      "cell_type": "code",
      "execution_count": 4,
      "metadata": {
        "id": "mX0myR_9rcP0"
      },
      "outputs": [],
      "source": [
        "#Cadenas escogidas para la comparación\n",
        "\n",
        "Human=(\n",
        "\"AGCCGGGCGCTGGCGCCCACCGC\"\n",
        "\"AGCCCCAGCTTGCCGAACCCCCTGCCCTGCGGCTTGGGCTACCCGGCTCAGCGCTGCACC\"\n",
        "\"CGGATCCCTGCCGTCTGGGGCTGGGCCCGCGCTGCCGTCTAGTCGCCGCGCCTCCTGCTG\"\n",
        "\"CAGCCACAGGGCTGAGATCTGCATTGGGGGCACAGGGGTTAGCGGGGAGGCAGAGGTCCT\"\n",
        "\"TGTTCCCGCTACCCGATCGCCGCGTATCCTAAGCCCCCCAGTACCCCACCTCTAACAAGG\"\n",
        "\"TGGTGCCGAAGCTCACGAGGCTGGCTGTGGCTTCTCTCAACACCAGCCCCAGGGTGGGCT\"\n",
        "\"TCGGGGCAGGCAGCATCCCCTGCATCTTCGGTTCGGGTGGCTCCAGGGACTTCAGCTCTC\"\n",
        "\"TGAACCTCTGCTCCAGATATTCATGGGCTGCGGCCACGGAGAGTTCCAGGGAAGACAGAA\"\n",
        "\"GCGGGGGCTGGAGGGCCACCTGGAGAAGGAGCAGAGCAGTAGAGTAGCAGGGCAGGGGTC\"\n",
        "\"ACAGGGGCGAACAGGAGACCTACCCAGAAGGTCTCGAGGTGCAGCCCTTGGCGGGCGTAG\"\n",
        "\"CCTCACCTCGGTGGAGCTGTGGAAGTGGTAGATCCACATCAGGGTGTCCAGGGAGCTGGG\"\n",
        ")\n",
        "\n",
        "\n",
        "Chimpanzee=(\n",
        "\"AACCGAGCGCTGGCGCCCACCGCAGCCCCA\"\n",
        "\"GCTTGCCGAGCCCCTTGCCCTGCGGCCTGGGCTACCCGGCTCAGCGCTGCACCCGGATCC\"\n",
        "\"CTGCCGTCTGGGGCTGGGCCCGCGCTGCCGTCTAGTCGCCGTGCCTCCTGCTGCAGCCAC\"\n",
        "\"AGGGCTGAGATCTGCATTGGGGGCACAGGGGTTAGCGGGGAGGCAGAGGTCCTTGTTCCC\"\n",
        "\"GCTGCCCGATCGCCGCGTATCCTAAGCCCCCCAGTACCCCACCTCTAACAAGGTGGTGCC\"\n",
        "\"GAAGCTCACGAGGCTGGCTGTGGCTTCTCTTAACACCAGCCCCAGGGTGGGCTTCGGGGC\"\n",
        "\"AGGCAGCATCCCCTGCATCTTCGGTTCCGGTGGCTCCAGGGACTTCAGCTCTCTGAACCT\"\n",
        "\"CTGCTCCAGATATTCATGGGCTGCGGCCACGGAGAGTTCCAGGGAAGACAGAAGCGGCGG\"\n",
        "\"CTGGAGGGCCACCTGGAGAAGGAGCAGAGCAGTAGAGTAGCAGGGCAGGGGTCACAGGGG\"\n",
        "\"CGAACAGGAGACCTACCCAGAAGGTCTCGAGGTGCAGCCCTTGGCGGGCGTAGCCTCACC\"\n",
        "\"TCGGTGGAGCTGTGGAAGTGGTAGATCCACATCAGGGTGTCCAGGGAGCTGGGGGTCCCC\"\n",
        ")\n",
        "\n",
        "Dog=(\n",
        "\"AGCCGGGCGCTGGCGCCCACCGCGGCCCCCGCCTGCCGCACCCGGTGCCCCGCGGCC\"\n",
        "\"TGGGCTAGCCGGCTCAGCGCTGCGCCCGGGTCCCCCGCGCCCGGGGCTGGGCCCGGACTG\"\n",
        "\"CCGGCGCCGCCGTCCAGTCGCCGCGCCTCCTGCTGCAGCCACAGGGCTGAGATCTGCCGT\"\n",
        "\"GGGGGGTGCAGGGGTTGGGGGGTGTGGGGGCCTGTGCCCCCGTGCCCCCTCCTTCCGCAG\"\n",
        "\"CCCCCCAGCCCCACCTCACACAAGGTGGCGCCGAAGCTCACGACGCTGGCCGCGGCCTCT\"\n",
        "\"CTGAGCACCAGCCTCAGGGTGGGCGTCGGGGCGGGCGGCCCCTGCGGCTCCCGGTGGGAA\"\n",
        "\"TCAAGCTCTTGGAACCTCTGCTCCAGATACTCGTGGGCTGAGGCCACGGCGAGCTCCAGG\"\n",
        "\"GAGGACAGCAGCGGGGGCTGCAGGGCCACCTGGACACGGAGCAGGGGGAGCGGGGACAGC\"\n",
        "\"GGGGCCGTCGGGGCCGGGGACAGTGCGCGGGGAGCGCGGGGCCGCGGGCGCAGCCTCACC\"\n",
        "\"TCCGTAGAGCTGTGGAAGTGGTACACCCACAGCAGGGTTTCCAGGGAGCTGGGGGTCCCC\"\n",
        ")\n",
        "Sheep=(\n",
        "\"AGCCGGGCGCTCG\"\n",
        "\"CGCCTGCTGCAGCCCCCACTTGCAGAGCCCCCTGCCCCGCGGCCTGGGCTACCCGGGCCA\"\n",
        "\"GGGCTCCACCCGGATCCCCAGCGTCTGGGCCCGGACCAGGGCCGCAGTCTAGTCGCCGTA\"\n",
        "\"GCTCCTGCTGCACCCACAGGGCTGAGATCTGTAGAGGGGATACAGAAGTTGGTGGGAATG\"\n",
        "\"CAGAGGTCTCTGATCCTCGATCTCCTTCCCCGACTCCCTCCTCTGCGCCCCGCCCCCGGC\"\n",
        "\"GCCCCACCCCTGCCTATGTGGTGCGCCCCGCCCCCGGCGCCCCACCTCTAACAAGGTGGC\"\n",
        "\"CCCGAAGTTCACTACGCTGGCCGCGGCTTCTCTTAGCACTAGCCCCAGGGTGGGCTTCCG\"\n",
        "\"GGCAGGCGGGTTCTCCGGCTCTCGAGGCTCCAAGGACTTCAGTTCTCTGAACCTCTGCTC\"\n",
        "\"CAGATATTCATGGGCTGCGGCCGCAAGGAGCTCCAGGGAAGACAGAAGCGGGGGCTGGAG\"\n",
        "\"GGCCACCTGGAAAGGCACAGGGGCAGCGGGGTCATCGGGACATAGGGCAGAGGTCACGGG\"\n",
        "\"AGGGGGGAGGGCGCTGGAAACCTTCCCAGAGCGTCTCCAGGTGCAGCCCTTATGGGTATC\"\n",
        "\"CATGTAGGCGCACCTCCGTGGAGCTGTGGAAGTGGTAGACCCACAGTAGGGTTTCCAGGG\"\n",
        ")"
      ]
    },
    {
      "cell_type": "code",
      "source": [
        "def truncar_cadena(cadena, longitud=530):\n",
        "    return cadena[:longitud]\n"
      ],
      "metadata": {
        "id": "dRPOPofq6Vnj"
      },
      "execution_count": 5,
      "outputs": []
    },
    {
      "cell_type": "code",
      "source": [
        "Human=truncar_cadena(Human)\n",
        "Sheep=truncar_cadena(Sheep)\n",
        "Dog=truncar_cadena(Dog)\n",
        "Chimpanzee=truncar_cadena(Chimpanzee)"
      ],
      "metadata": {
        "id": "FEjVDk8O6p9W"
      },
      "execution_count": 6,
      "outputs": []
    },
    {
      "cell_type": "code",
      "source": [
        "\n",
        "#simulador de quiskit\n",
        "\n",
        "simulator = AerSimulator()"
      ],
      "metadata": {
        "id": "Vq69GwXMxiFh"
      },
      "execution_count": 7,
      "outputs": []
    },
    {
      "cell_type": "code",
      "source": [
        "#Longitud de las cadenas\n",
        "print(\"La longitud la cadena genética de Humano es: {}\".format(len(Human)))\n",
        "print(\"La longitud la cadena genética de Chimpancé es: {}\".format(len(Chimpanzee)))\n",
        "print(\"La longitud la cadena genética de Perro es: {}\".format(len(Dog)))\n",
        "print(\"La longitud la cadena genética de Oveja es: {}\".format(len(Sheep)))"
      ],
      "metadata": {
        "colab": {
          "base_uri": "https://localhost:8080/"
        },
        "id": "RI_kcBiNvCq9",
        "outputId": "57829055-5182-438d-cdc2-5afecbad9f19"
      },
      "execution_count": 8,
      "outputs": [
        {
          "output_type": "stream",
          "name": "stdout",
          "text": [
            "La longitud la cadena genética de Humano es: 530\n",
            "La longitud la cadena genética de Chimpancé es: 530\n",
            "La longitud la cadena genética de Perro es: 530\n",
            "La longitud la cadena genética de Oveja es: 530\n"
          ]
        }
      ]
    },
    {
      "cell_type": "code",
      "source": [
        "#Definición de las especies e un diccionario\n",
        "\n",
        "species= {\n",
        "\n",
        "    \"Human\": Human,\n",
        "    \"Chimpanzee\": Chimpanzee,\n",
        "    \"Dog\": Dog,\n",
        "    \"Sheep\": Sheep\n",
        "\n",
        "}"
      ],
      "metadata": {
        "id": "tpRftYIoPsHB"
      },
      "execution_count": 9,
      "outputs": []
    },
    {
      "cell_type": "code",
      "source": [
        "#Defición de los tipo de nucleótidos en un diccionario, esto para su posterior acceso.\n",
        "nucleotides= {\n",
        "    'A': 0,\n",
        "    'C': 1,\n",
        "    'G': 2,\n",
        "    'T': 3\n",
        "}"
      ],
      "metadata": {
        "id": "PtFNeUudJ37e"
      },
      "execution_count": 10,
      "outputs": []
    },
    {
      "cell_type": "code",
      "source": [
        "\n",
        "def encode_bitstring(bitstring, qr, cr, inverse=False):\n",
        "    global nucleotides\n",
        "\n",
        "    qc = QuantumCircuit(qr, cr)\n",
        "    num_states = 2 ** len(qr)\n",
        "    desired_vector = np.zeros(num_states)\n",
        "    amplitude = np.sqrt(1.0 / 530)\n",
        "\n",
        "    for i, b in enumerate(bitstring):\n",
        "        pos = i * 4 + nucleotides[b]\n",
        "        desired_vector[pos] = amplitude\n",
        "\n",
        "    init = Initialize(desired_vector)\n",
        "\n",
        "    if not inverse:\n",
        "        qc.append(init, qr)\n",
        "        qc.barrier()\n",
        "    else:\n",
        "        qc.append(init.gates_to_uncompute().decompose(), qr)\n",
        "        qc.barrier()\n",
        "        qc.measure(qr, cr)\n",
        "\n",
        "    return qc"
      ],
      "metadata": {
        "id": "W0VMW9Bq1yR4"
      },
      "execution_count": 11,
      "outputs": []
    },
    {
      "cell_type": "code",
      "source": [
        "circuits = {}\n",
        "n = math.ceil(math.log2(4 * 530))\n",
        "qr = QuantumRegister(n)\n",
        "cr = ClassicalRegister(n)\n",
        "\n",
        "for name, seq in species.items():\n",
        "    print(f\"{name}: longitud = {len(seq)}\")\n",
        "    qc = encode_bitstring(seq, qr, cr)\n",
        "    circuits[name] = qc\n",
        "    state = Statevector.from_instruction(qc)\n",
        "    amplitudes = state.data\n",
        "    print(f\"Primeros 5 coeficientes del estado \\\\ket{{\\\\psi}} para {name}:\")\n",
        "\n",
        "    superposition = \"\"\n",
        "    for i, amp in enumerate(amplitudes[:5]):\n",
        "        if abs(amp) > 1e-6:\n",
        "            ket = f\"|{format(i, f'0{n}b')}>\"\n",
        "            superposition += f\"{complex(amp):.4f}*{ket} + \"\n",
        "\n",
        "    superposition = superposition.rstrip(\" + \")\n",
        "    display(Math(f\"\\\\text{{{name}}}: \\\\quad {superposition}\"))\n",
        "    print(\"-\" * 60 + \"\\n\")\n"
      ],
      "metadata": {
        "id": "Jnqfq1mdRu-o",
        "colab": {
          "base_uri": "https://localhost:8080/",
          "height": 394
        },
        "outputId": "4b4dc21d-45e2-42bd-8fee-ef8151cadcec"
      },
      "execution_count": 12,
      "outputs": [
        {
          "output_type": "stream",
          "name": "stdout",
          "text": [
            "Human: longitud = 530\n",
            "Primeros 5 coeficientes del estado \\ket{\\psi} para Human:\n"
          ]
        },
        {
          "output_type": "display_data",
          "data": {
            "text/plain": [
              "<IPython.core.display.Math object>"
            ],
            "text/latex": "$\\displaystyle \\text{Human}: \\quad 0.0434+0.0000j*|000000000000>$"
          },
          "metadata": {}
        },
        {
          "output_type": "stream",
          "name": "stdout",
          "text": [
            "------------------------------------------------------------\n",
            "\n",
            "Chimpanzee: longitud = 530\n",
            "Primeros 5 coeficientes del estado \\ket{\\psi} para Chimpanzee:\n"
          ]
        },
        {
          "output_type": "display_data",
          "data": {
            "text/plain": [
              "<IPython.core.display.Math object>"
            ],
            "text/latex": "$\\displaystyle \\text{Chimpanzee}: \\quad 0.0434+0.0000j*|000000000000> + 0.0434+0.0000j*|000000000100>$"
          },
          "metadata": {}
        },
        {
          "output_type": "stream",
          "name": "stdout",
          "text": [
            "------------------------------------------------------------\n",
            "\n",
            "Dog: longitud = 530\n",
            "Primeros 5 coeficientes del estado \\ket{\\psi} para Dog:\n"
          ]
        },
        {
          "output_type": "display_data",
          "data": {
            "text/plain": [
              "<IPython.core.display.Math object>"
            ],
            "text/latex": "$\\displaystyle \\text{Dog}: \\quad 0.0434+0.0000j*|000000000000>$"
          },
          "metadata": {}
        },
        {
          "output_type": "stream",
          "name": "stdout",
          "text": [
            "------------------------------------------------------------\n",
            "\n",
            "Sheep: longitud = 530\n",
            "Primeros 5 coeficientes del estado \\ket{\\psi} para Sheep:\n"
          ]
        },
        {
          "output_type": "display_data",
          "data": {
            "text/plain": [
              "<IPython.core.display.Math object>"
            ],
            "text/latex": "$\\displaystyle \\text{Sheep}: \\quad 0.0434+0.0000j*|000000000000>$"
          },
          "metadata": {}
        },
        {
          "output_type": "stream",
          "name": "stdout",
          "text": [
            "------------------------------------------------------------\n",
            "\n"
          ]
        }
      ]
    },
    {
      "cell_type": "markdown",
      "source": [
        "* Para el concepto de fidelidad, se debe tener en cuenta la notación de bra y ket, y saber que el bra de un Ket es simplemente su complejo conjugado transpuesto."
      ],
      "metadata": {
        "id": "EMEkuf388qPO"
      }
    },
    {
      "cell_type": "code",
      "source": [
        "# Inicializar variables para comparación\n",
        "most_similar = None\n",
        "most_similar_score = -1\n",
        "\n",
        "names = list(circuits.keys())\n",
        "\n",
        "# Comparación explícita Humano vs Humano\n",
        "state_humano = Statevector.from_instruction(circuits[\"Human\"])\n",
        "fidelidad_humano = np.abs(np.dot(state_humano.data.conj(), state_humano.data))**2\n",
        "print(\"La fidelidad entre Humano y Humano es: {:.3f}\".format(fidelidad_humano))\n",
        "\n",
        "# Comparaciones entre pares diferentes\n",
        "for i in range(len(names)):\n",
        "    for j in range(i + 1, len(names)):\n",
        "        name1, name2 = names[i], names[j]\n",
        "        state1 = Statevector.from_instruction(circuits[name1])\n",
        "        state2 = Statevector.from_instruction(circuits[name2])\n",
        "\n",
        "        fidelity = np.abs(np.dot(state1.data.conj(), state2.data))**2\n",
        "        print(\"La fidelidad entre {} y {} es: {:.3f}\".format(name1, name2, fidelity))\n",
        "\n",
        "        if fidelity > most_similar_score:\n",
        "            most_similar, most_similar_score = (name1, name2), fidelity\n",
        "\n",
        "print(\"\\nEl par más similar (distinto entre sí) es {} con fidelidad: {:.3f}\".format(most_similar, most_similar_score))\n"
      ],
      "metadata": {
        "colab": {
          "base_uri": "https://localhost:8080/"
        },
        "id": "Jc536P9XWTKL",
        "outputId": "0d8c92e3-79fb-4666-e669-9ac05b7c11c2"
      },
      "execution_count": 13,
      "outputs": [
        {
          "output_type": "stream",
          "name": "stdout",
          "text": [
            "La fidelidad entre Humano y Humano es: 1.000\n",
            "La fidelidad entre Human y Chimpanzee es: 0.963\n",
            "La fidelidad entre Human y Dog es: 0.195\n",
            "La fidelidad entre Human y Sheep es: 0.252\n",
            "La fidelidad entre Chimpanzee y Dog es: 0.190\n",
            "La fidelidad entre Chimpanzee y Sheep es: 0.254\n",
            "La fidelidad entre Dog y Sheep es: 0.175\n",
            "\n",
            "El par más similar (distinto entre sí) es ('Human', 'Chimpanzee') con fidelidad: 0.963\n"
          ]
        }
      ]
    },
    {
      "cell_type": "markdown",
      "source": [
        "Comprobación de la respuesta del código al comparar Humano-Humano."
      ],
      "metadata": {
        "id": "PtRjqZwx4CFh"
      }
    },
    {
      "cell_type": "markdown",
      "source": [
        "Cambio en la estructura genética en 4 nucleótidos de un humano."
      ],
      "metadata": {
        "id": "jVIymf7K6GSY"
      }
    },
    {
      "cell_type": "code",
      "source": [
        "def cambiar_posiciones(cadena, cambios):\n",
        "    # Convertir la cadena en una lista para poder modificarla\n",
        "    lista = list(cadena)\n",
        "\n",
        "    # Aplicar los cambios según el diccionario\n",
        "    for indice, nuevo_valor in cambios.items():\n",
        "        lista[indice] = nuevo_valor\n",
        "\n",
        "    # Convertir la lista de nuevo a cadena\n",
        "    return ''.join(lista)\n"
      ],
      "metadata": {
        "id": "_NJZY6Lz-9Zq"
      },
      "execution_count": 14,
      "outputs": []
    },
    {
      "cell_type": "code",
      "source": [
        "# Cambiar las posiciones en la cadena 'Human'\n",
        "cambios = {2: 'G', 5: 'T', 500: 'A', 520: 'G', 54: 'C'}\n",
        "Altered_Human = cambiar_posiciones(Human, cambios)\n",
        "\n",
        "# Calcular el número de qubits necesarios para Human (ya que ambas cadenas tienen longitud 530)\n",
        "n_Human = math.ceil(math.log2(4 * len(Human)))  # o len(Altered_Human), ya que ambas son de 530\n",
        "\n",
        "# Crear los registros cuánticos y clásicos para Human\n",
        "qr_Human = QuantumRegister(n_Human)\n",
        "cr_Human = ClassicalRegister(n_Human)\n",
        "\n",
        "# Crear el circuito cuántico para Human\n",
        "qc_Human_circuit = encode_bitstring(Human, qr_Human, cr_Human, inverse=False)\n",
        "\n",
        "# Obtener el vector de estado cuántico para Human\n",
        "State_Human_vector = Statevector.from_instruction(qc_Human_circuit)\n",
        "\n",
        "# Crear los registros cuánticos y clásicos para Altered_Human\n",
        "qr_Human_altered = QuantumRegister(n_Human)\n",
        "cr_Human_altered = ClassicalRegister(n_Human)\n",
        "\n",
        "# Crear el circuito cuántico para Altered_Human\n",
        "qc_Human_altered_circuit = encode_bitstring(Altered_Human, qr_Human_altered, cr_Human_altered, inverse=False)\n",
        "\n",
        "# Obtener el vector de estado cuántico para Altered_Human\n",
        "State_altered_Human_vector = Statevector.from_instruction(qc_Human_altered_circuit)\n"
      ],
      "metadata": {
        "id": "J7E9p6_B6FNQ"
      },
      "execution_count": 15,
      "outputs": []
    },
    {
      "cell_type": "code",
      "source": [
        "n_Human = math.ceil(math.log2(4 * len(Altered_Human)))\n",
        "qr_altered_Human=QuantumRegister(n_Human)\n",
        "cr_altered_Human=ClassicalRegister(n_Human)\n",
        "qc_altered_Human=encode_bitstring(Altered_Human,qr_altered_Human,cr_altered_Human,inverse=False)\n",
        "\n",
        "State_altered_Human_vector=Statevector.from_instruction(qc_altered_Human)\n",
        "fidelity=np.abs(np.dot(State_altered_Human_vector.data.conj(),State_Human_vector.data))**2\n",
        "\n",
        "print(\"La fidelidad para el caso de HUmano con Humano alterado genéticamente es: {:.3f}\".format(fidelity))"
      ],
      "metadata": {
        "colab": {
          "base_uri": "https://localhost:8080/"
        },
        "id": "GXYSwoQO60Ag",
        "outputId": "2459d410-07f2-4fef-cd17-af76871b9d53"
      },
      "execution_count": 16,
      "outputs": [
        {
          "output_type": "stream",
          "name": "stdout",
          "text": [
            "La fidelidad para el caso de HUmano con Humano alterado genéticamente es: 0.981\n"
          ]
        }
      ]
    }
  ]
}